{
 "cells": [
  {
   "cell_type": "markdown",
   "metadata": {},
   "source": [
    "# import Libraries"
   ]
  },
  {
   "cell_type": "code",
   "execution_count": 197,
   "metadata": {
    "collapsed": true
   },
   "outputs": [],
   "source": [
    "import numpy as np\n",
    "import matplotlib.pyplot as plt\n",
    "%matplotlib inline"
   ]
  },
  {
   "cell_type": "markdown",
   "metadata": {},
   "source": [
    "# Trapezoidal Function for Short"
   ]
  },
  {
   "cell_type": "code",
   "execution_count": 198,
   "metadata": {},
   "outputs": [],
   "source": [
    "def Trapezoidal_MF(x):\n",
    "    a=150\n",
    "    b=150\n",
    "    c=160\n",
    "    d=170\n",
    "    \n",
    "    if(x<=a):\n",
    "        return 0\n",
    "    if(x>=a and x<=b):\n",
    "        return (x-a)/(b-a)\n",
    "\n",
    "    if(x>=b and x<=c):\n",
    "        return  1\n",
    "    if(x>=c and x<=d):\n",
    "        return (d-x)/(d-c)\n",
    "    if(d<=x):\n",
    "        return 0\n",
    "    "
   ]
  },
  {
   "cell_type": "markdown",
   "metadata": {},
   "source": [
    "# Trapezoidal Function for Tall"
   ]
  },
  {
   "cell_type": "code",
   "execution_count": 199,
   "metadata": {},
   "outputs": [],
   "source": [
    "def Trapezoidal_MF2(x):\n",
    "    a=180\n",
    "    b=190\n",
    "    c=210\n",
    "    d=210\n",
    "    \n",
    "    if(x<=a):\n",
    "        return 0\n",
    "    if(x>=a and x<=b):\n",
    "        return (x-a)/(b-a)\n",
    "\n",
    "    if(x>=b and x<=c):\n",
    "        return  1\n",
    "    if(x>=c and x<=d):\n",
    "        return (d-x)/(d-c)\n",
    "    if(d<=x):\n",
    "        return 0\n",
    "    "
   ]
  },
  {
   "cell_type": "markdown",
   "metadata": {},
   "source": [
    "# Triangular Function for Average"
   ]
  },
  {
   "cell_type": "code",
   "execution_count": 200,
   "metadata": {},
   "outputs": [],
   "source": [
    "def Triangular_MF(x):\n",
    "    a=165\n",
    "    b=175\n",
    "    c=185\n",
    "    \n",
    "    if(x<=a):\n",
    "        return 0\n",
    "    if(x>=a and x<=b):\n",
    "        return (x-a)/(b-a)\n",
    "\n",
    "    if(x>=b and x<=c):\n",
    "        return (c-x)/(c-b)\n",
    "\n",
    "    if(c<=x):\n",
    "        return 0"
   ]
  },
  {
   "cell_type": "markdown",
   "metadata": {},
   "source": [
    "# making sets , calling Functions"
   ]
  },
  {
   "cell_type": "code",
   "execution_count": 201,
   "metadata": {},
   "outputs": [],
   "source": [
    "x_short=np.arange(150,171)\n",
    "x_average=np.arange(165,186)\n",
    "x_tall=np.arange(180,211)\n",
    "\n",
    "y_short=[Trapezoidal_MF(i)  for i in x_short]\n",
    "y_average=[Triangular_MF(i)  for i in x_average]\n",
    "y_tall=[Trapezoidal_MF2(i)  for i in x_tall]\n"
   ]
  },
  {
   "cell_type": "markdown",
   "metadata": {},
   "source": [
    "# creating plot "
   ]
  },
  {
   "cell_type": "code",
   "execution_count": 202,
   "metadata": {},
   "outputs": [
    {
     "data": {
      "image/png": "[encoded data removed]",
      "text/plain": [
       "<matplotlib.figure.Figure at 0x5d9cce4208>"
      ]
     },
     "metadata": {},
     "output_type": "display_data"
    }
   ],
   "source": [
    "_=plt.plot(x_short, y_short , linestyle='-',color=\"red\")\n",
    "\n",
    "_=plt.plot(x_average, y_average , linestyle='-',color=\"green\")\n",
    "\n",
    "_=plt.plot(x_tall, y_tall , linestyle='-',color=\"blue\")\n",
    "\n",
    "\n",
    "_ = plt.legend(('Short', 'Average', 'Tall'), loc='lower right')\n",
    "_ = plt.xlabel('Height (cm)')\n",
    "_ = plt.ylabel('Degree of Membership')\n",
    "_ = plt.title(\"Fuzzy Sets\")\n",
    "_ = plt.margins(0.01)\n",
    "\n",
    "plt.show()\n"
   ]
  }
 ],
 "metadata": {
  "kernelspec": {
   "display_name": "Python 3",
   "language": "python",
   "name": "python3"
  },
  "language_info": {
   "codemirror_mode": {
    "name": "ipython",
    "version": 3
   },
   "file_extension": ".py",
   "mimetype": "text/x-python",
   "name": "python",
   "nbconvert_exporter": "python",
   "pygments_lexer": "ipython3",
   "version": "3.6.1"
  }
 },
 "nbformat": 4,
 "nbformat_minor": 2
}
