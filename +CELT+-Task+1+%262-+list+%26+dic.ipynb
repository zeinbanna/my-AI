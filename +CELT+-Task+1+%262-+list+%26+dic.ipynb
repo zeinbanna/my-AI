{
 "cells": [
  {
   "cell_type": "markdown",
   "metadata": {},
   "source": [
    "# Task 1 about List & Dictionary"
   ]
  },
  {
   "cell_type": "code",
   "execution_count": null,
   "metadata": {
    "collapsed": true
   },
   "outputs": [],
   "source": [
    "def world(coun):\n",
    "    country=['Polynesia','Caribbean','Guinea','Melanesia','Afghanistan','Malawi','Cuba','Romania','Dominica','Guatemala']\n",
    "    capitals=['Jacques Chirac','Elisabeth II','Conakry','Kabul','Lilongwe','Havana','Bucharest','Roseau','Guatemala City']\n",
    "    world={}\n",
    "\n",
    "    country.sort()\n",
    "    capitals.sort()\n",
    "\n",
    "    j=0\n",
    "    for i in country:\n",
    "        world[i]=capitals[j]\n",
    "        j=+1\n",
    "\n",
    "    world['France']='Paris'\n",
    "    world['Georgia'] = 'Tbilisi'\n",
    "\n",
    "   # print( world[coun])\n",
    "\n",
    "    x={i:world[i] for i in world}\n",
    "    print(x)\n",
    "\n",
    "\n",
    "def main():\n",
    "    world('Polynesia')\n",
    "\n",
    "\n",
    "if __name__ == '__main__':main()\n"
   ]
  },
  {
   "cell_type": "markdown",
   "metadata": {},
   "source": [
    "# Task 2 about List & dic "
   ]
  },
  {
   "cell_type": "code",
   "execution_count": null,
   "metadata": {
    "collapsed": true
   },
   "outputs": [],
   "source": [
    "def world(coun):\n",
    "\n",
    "world={'Afghanistan': 'Bucharest', 'Caribbean': 'Conakry', 'Cuba': 'Conakry', 'Dominica': 'Conakry', 'Guatemala': 'Conakry', 'Guinea': 'Conakry', 'Malawi': 'Conakry', 'Melanesia': 'Conakry', 'Polynesia': 'Conakry', 'Romania': 'Conakry', 'France': 'Paris', 'Georgia': 'Tbilisi'}\n",
    "\n",
    "    world['France']='Paris'\n",
    "    world['Georgia'] = 'Tbilisi'\n",
    "\n",
    "   # print( world[coun])\n",
    "\n",
    "    x={i:world[i] for i in world}\n",
    "    print(x)\n",
    "\n",
    "\n",
    "def main():\n",
    "    world('Polynesia')\n",
    "\n",
    "\n",
    "if __name__ == '__main__':main()\n"
   ]
  }
 ],
 "metadata": {
  "kernelspec": {
   "display_name": "Python 3",
   "language": "python",
   "name": "python3"
  },
  "language_info": {
   "codemirror_mode": {
    "name": "ipython",
    "version": 3
   },
   "file_extension": ".py",
   "mimetype": "text/x-python",
   "name": "python",
   "nbconvert_exporter": "python",
   "pygments_lexer": "ipython3",
   "version": "3.6.1"
  }
 },
 "nbformat": 4,
 "nbformat_minor": 2
}
